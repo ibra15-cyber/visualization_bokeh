{
 "cells": [
  {
   "cell_type": "code",
   "execution_count": 27,
   "id": "eeed9e5e",
   "metadata": {},
   "outputs": [],
   "source": [
    "#making a basic bokeh line graph\n",
    "\n",
    "from bokeh.plotting import figure, output_file, show\n",
    "\n",
    "\n",
    "x=[1,2,3,4,5]\n",
    "y=[6,7,8,9,10]\n",
    "\n",
    "output_file(\"Line.html\")\n",
    "\n",
    "f=figure(width=600, height=400)\n",
    "\n",
    "f.line(x,y)\n",
    "\n",
    "show(f)"
   ]
  },
  {
   "cell_type": "code",
   "execution_count": null,
   "id": "09c01528",
   "metadata": {},
   "outputs": [],
   "source": []
  }
 ],
 "metadata": {
  "kernelspec": {
   "display_name": "Python 3 (ipykernel)",
   "language": "python",
   "name": "python3"
  },
  "language_info": {
   "codemirror_mode": {
    "name": "ipython",
    "version": 3
   },
   "file_extension": ".py",
   "mimetype": "text/x-python",
   "name": "python",
   "nbconvert_exporter": "python",
   "pygments_lexer": "ipython3",
   "version": "3.9.7"
  }
 },
 "nbformat": 4,
 "nbformat_minor": 5
}
